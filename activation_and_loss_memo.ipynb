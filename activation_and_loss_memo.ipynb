{
 "cells": [
  {
   "cell_type": "markdown",
   "metadata": {},
   "source": [
    "#### 画像生成の最終層活性化関数と誤差関数\n",
    "\n",
    "|  | アプリケーション  |活性化関数  | 誤差関数 | 備考 |\n",
    "|---|---|---|---|---|\n",
    "| chapter8  | CAE  | sigmoid  | binary cross entropy | 白黒 |\n",
    "| chapter9  | 自動着色  | ReLU  | MSE | 0-255のABチャネルを出力 |\n",
    "| chapter10  | 超解像  | なし  | MSE | 　 |\n",
    "| chapter11  | 画風変換  | tanh  | -  |　  |\n",
    "| chapter12  | BEGAN  | なし  | (MSE) |　discriminator(AE)を通す   |\n",
    "\n"
   ]
  }
 ],
 "metadata": {
  "kernelspec": {
   "display_name": "Python 3",
   "language": "python",
   "name": "python3"
  },
  "language_info": {
   "codemirror_mode": {
    "name": "ipython",
    "version": 3
   },
   "file_extension": ".py",
   "mimetype": "text/x-python",
   "name": "python",
   "nbconvert_exporter": "python",
   "pygments_lexer": "ipython3",
   "version": "3.5.2"
  }
 },
 "nbformat": 4,
 "nbformat_minor": 2
}
